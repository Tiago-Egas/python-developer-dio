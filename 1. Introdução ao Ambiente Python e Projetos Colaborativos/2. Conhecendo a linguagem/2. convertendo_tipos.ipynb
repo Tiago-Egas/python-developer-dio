{
 "cells": [
  {
   "cell_type": "markdown",
   "metadata": {},
   "source": [
    "# Conversão e tipos\n",
    "\n",
    "nesta aula foi apresentado os tipos e dados e como o Python manipula os tipos de informações recebidas para exibição"
   ]
  },
  {
   "cell_type": "code",
   "execution_count": 1,
   "metadata": {},
   "outputs": [
    {
     "name": "stdout",
     "output_type": "stream",
     "text": [
      "1\n",
      "10\n",
      "12.9434\n",
      "100.0\n",
      "<class 'str'>\n",
      "50.0\n",
      "50\n"
     ]
    }
   ],
   "source": [
    "print(int(1.74945542))\n",
    "print(int(\"10\"))\n",
    "print(float(\"12.9434\"))\n",
    "print(float(100))\n",
    "\n",
    "print(type(str(\"13.10\")))\n",
    "\n",
    "print(100 / 2)\n",
    "print(100 // 2)"
   ]
  }
 ],
 "metadata": {
  "kernelspec": {
   "display_name": ".venv",
   "language": "python",
   "name": "python3"
  },
  "language_info": {
   "codemirror_mode": {
    "name": "ipython",
    "version": 3
   },
   "file_extension": ".py",
   "mimetype": "text/x-python",
   "name": "python",
   "nbconvert_exporter": "python",
   "pygments_lexer": "ipython3",
   "version": "3.13.7"
  }
 },
 "nbformat": 4,
 "nbformat_minor": 2
}
