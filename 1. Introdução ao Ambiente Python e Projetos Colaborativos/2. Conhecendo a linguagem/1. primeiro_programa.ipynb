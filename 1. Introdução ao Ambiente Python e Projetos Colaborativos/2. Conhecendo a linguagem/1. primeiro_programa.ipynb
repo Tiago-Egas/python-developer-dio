{
 "cells": [
  {
   "cell_type": "markdown",
   "metadata": {},
   "source": [
    "# Primeiro programa\n",
    "\n",
    "testando a impressão e o funcionamento básico das instruções  \n",
    "também foi explicado como executar os programas diretamente do REPl"
   ]
  },
  {
   "cell_type": "code",
   "execution_count": 1,
   "metadata": {},
   "outputs": [
    {
     "name": "stdout",
     "output_type": "stream",
     "text": [
      "Olá, Mundo!!\n",
      "Oi, seja bem vindo ao curso de Python!\n",
      "1021\n",
      "3.0\n",
      "True\n",
      "False\n",
      "Python\n"
     ]
    }
   ],
   "source": [
    "print(\"Olá, Mundo!!\")\n",
    "\n",
    "print(\"Oi, seja bem vindo ao curso de Python!\")\n",
    "\n",
    "print(11 + 10 + 1000)\n",
    "print(1.5 + 1 + 0.5)\n",
    "print(True)\n",
    "print(False)\n",
    "print(\"Python\")"
   ]
  }
 ],
 "metadata": {
  "kernelspec": {
   "display_name": ".venv",
   "language": "python",
   "name": "python3"
  },
  "language_info": {
   "codemirror_mode": {
    "name": "ipython",
    "version": 3
   },
   "file_extension": ".py",
   "mimetype": "text/x-python",
   "name": "python",
   "nbconvert_exporter": "python",
   "pygments_lexer": "ipython3",
   "version": "3.13.7"
  }
 },
 "nbformat": 4,
 "nbformat_minor": 2
}
