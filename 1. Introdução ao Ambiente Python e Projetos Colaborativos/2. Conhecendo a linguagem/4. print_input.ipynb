{
 "cells": [
  {
   "cell_type": "code",
   "execution_count": 1,
   "metadata": {},
   "outputs": [
    {
     "name": "stdout",
     "output_type": "stream",
     "text": [
      "Tiago 34\n",
      "teste Tiago 34... \n"
     ]
    }
   ],
   "source": [
    "nome = input(\"Informe o seu nome:\\nR= \")\n",
    "idade = input(\"Informe a sua idade:\\nR= \")\n",
    "\n",
    "print(nome, idade)\n",
    "print(\"teste\", sep=\"\\t\", end=\" \")\n",
    "print(nome, idade, end=\"... \\n\")"
   ]
  }
 ],
 "metadata": {
  "kernelspec": {
   "display_name": ".venv",
   "language": "python",
   "name": "python3"
  },
  "language_info": {
   "codemirror_mode": {
    "name": "ipython",
    "version": 3
   },
   "file_extension": ".py",
   "mimetype": "text/x-python",
   "name": "python",
   "nbconvert_exporter": "python",
   "pygments_lexer": "ipython3",
   "version": "3.13.2"
  }
 },
 "nbformat": 4,
 "nbformat_minor": 2
}
