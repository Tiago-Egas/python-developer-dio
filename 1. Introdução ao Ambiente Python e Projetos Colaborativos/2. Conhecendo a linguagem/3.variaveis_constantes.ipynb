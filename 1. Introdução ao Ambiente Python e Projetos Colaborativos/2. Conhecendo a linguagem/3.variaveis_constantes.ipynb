{
 "cells": [
  {
   "cell_type": "markdown",
   "metadata": {},
   "source": [
    "# Variáveis e Constantes\n",
    "\n",
    "nesta aula foi apresentado como o Python grava as informações em variáveis e nas constantes."
   ]
  },
  {
   "cell_type": "code",
   "execution_count": 1,
   "metadata": {},
   "outputs": [
    {
     "name": "stdout",
     "output_type": "stream",
     "text": [
      "Giovanna 28\n",
      "1000\n",
      "['SP', 'RJ', 'SC', 'PR']\n"
     ]
    }
   ],
   "source": [
    "nome = \"Tiago\"\n",
    "idade = 34\n",
    "\n",
    "nome, idade = \"Giovanna\", 28\n",
    "\n",
    "print(nome, idade)\n",
    "\n",
    "limite_saque_diario = 1000\n",
    "\n",
    "print(limite_saque_diario)\n",
    "\n",
    "BRAZILIAN_STATES = [\"SP\", \"RJ\", \"SC\", \"PR\"]\n",
    "\n",
    "print(BRAZILIAN_STATES)"
   ]
  }
 ],
 "metadata": {
  "kernelspec": {
   "display_name": ".venv",
   "language": "python",
   "name": "python3"
  },
  "language_info": {
   "codemirror_mode": {
    "name": "ipython",
    "version": 3
   },
   "file_extension": ".py",
   "mimetype": "text/x-python",
   "name": "python",
   "nbconvert_exporter": "python",
   "pygments_lexer": "ipython3",
   "version": "3.13.7"
  }
 },
 "nbformat": 4,
 "nbformat_minor": 2
}
