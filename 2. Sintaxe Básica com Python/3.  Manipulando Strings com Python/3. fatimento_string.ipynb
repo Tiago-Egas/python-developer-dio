{
 "cells": [
  {
   "cell_type": "markdown",
   "metadata": {},
   "source": [
    "## Fatiamento\n",
    "\n",
    "Técnica utilizada para retornar partes da string original."
   ]
  },
  {
   "cell_type": "code",
   "execution_count": 27,
   "metadata": {},
   "outputs": [
    {
     "name": "stdout",
     "output_type": "stream",
     "text": [
      "T\n",
      "T\n",
      "Tiago\n",
      "Egas \n",
      "Costa\n",
      "Egas Costa\n",
      "atsoC sagE ogaiT\n",
      "asCsg gi\n",
      "TaoEa ot\n"
     ]
    }
   ],
   "source": [
    "nome = \"Tiago Egas Costa\"\n",
    "\n",
    "print(nome[0])\n",
    "print(nome[:1])\n",
    "\n",
    "print(nome[0:5])\n",
    "\n",
    "print(nome[6:11])\n",
    "\n",
    "print(nome[11:16])\n",
    "\n",
    "print(nome[6:16])\n",
    "\n",
    "print(nome[::-1])\n",
    "print(nome[::-2])\n",
    "print(nome[::2])\n"
   ]
  }
 ],
 "metadata": {
  "kernelspec": {
   "display_name": ".venv",
   "language": "python",
   "name": "python3"
  },
  "language_info": {
   "codemirror_mode": {
    "name": "ipython",
    "version": 3
   },
   "file_extension": ".py",
   "mimetype": "text/x-python",
   "name": "python",
   "nbconvert_exporter": "python",
   "pygments_lexer": "ipython3",
   "version": "3.13.2"
  }
 },
 "nbformat": 4,
 "nbformat_minor": 2
}
