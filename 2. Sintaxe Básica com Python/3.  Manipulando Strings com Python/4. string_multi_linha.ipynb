{
 "cells": [
  {
   "cell_type": "markdown",
   "metadata": {},
   "source": [
    "## Strings de Multi Linha\n",
    "\n",
    "São definidas informando 3 aspas simples (´) na atribuição."
   ]
  },
  {
   "cell_type": "code",
   "execution_count": 3,
   "metadata": {},
   "outputs": [
    {
     "name": "stdout",
     "output_type": "stream",
     "text": [
      "\n",
      "Olá, meu nome é Tiago Egas,\n",
      "Estou aprendendo Python.\n",
      "\n",
      "    Esse é um exemplo de string formatada.\n",
      "\n"
     ]
    }
   ],
   "source": [
    "nome = \"Tiago Egas\"\n",
    "\n",
    "mensagem = f\"\"\"\n",
    "Olá, meu nome é {nome},\n",
    "Estou aprendendo Python.\n",
    "\n",
    "    Esse é um exemplo de string formatada.\n",
    "\"\"\"\n",
    "\n",
    "print(mensagem)"
   ]
  },
  {
   "cell_type": "code",
   "execution_count": 3,
   "metadata": {},
   "outputs": [
    {
     "name": "stdout",
     "output_type": "stream",
     "text": [
      "\n",
      "\n",
      "    ================= Menu =================\n",
      "      \n",
      "        1 - Sacar\n",
      "        2 - Depositar\n",
      "        3 - Sair\n",
      "      \n",
      "    ========================================\n",
      "      \n",
      "      Obrigado por utilizar o nosso sistema!\n",
      "\n",
      "\n"
     ]
    }
   ],
   "source": [
    "print(\"\"\"\n",
    "\n",
    "    ================= Menu =================\n",
    "      \n",
    "        1 - Sacar\n",
    "        2 - Depositar\n",
    "        3 - Sair\n",
    "      \n",
    "    ========================================\n",
    "      \n",
    "      Obrigado por utilizar o nosso sistema!\n",
    "\n",
    "\"\"\")"
   ]
  }
 ],
 "metadata": {
  "kernelspec": {
   "display_name": ".venv",
   "language": "python",
   "name": "python3"
  },
  "language_info": {
   "codemirror_mode": {
    "name": "ipython",
    "version": 3
   },
   "file_extension": ".py",
   "mimetype": "text/x-python",
   "name": "python",
   "nbconvert_exporter": "python",
   "pygments_lexer": "ipython3",
   "version": "3.13.2"
  }
 },
 "nbformat": 4,
 "nbformat_minor": 2
}
