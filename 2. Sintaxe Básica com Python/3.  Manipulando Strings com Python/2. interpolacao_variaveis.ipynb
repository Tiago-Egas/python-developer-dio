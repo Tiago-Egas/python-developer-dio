{
 "cells": [
  {
   "cell_type": "markdown",
   "metadata": {},
   "source": [
    "## Old Style %\n",
    "\n",
    "Formato antigo de interpolação de textos.  \n",
    "As variáveis precisam estar em ordem e cada tipo de variável tem a sua nomenclatura de substituição."
   ]
  },
  {
   "cell_type": "code",
   "execution_count": 25,
   "metadata": {},
   "outputs": [
    {
     "name": "stdout",
     "output_type": "stream",
     "text": [
      "Olá, me chamo Tiago. Eu tenho 34 anos de idade, trabalho como Programador e estou matriculado no curso de Python.\n"
     ]
    }
   ],
   "source": [
    "nome = \"Tiago\"\n",
    "idade = 34\n",
    "profissao = \"Programador\"\n",
    "linguagem = \"Python\"\n",
    "\n",
    "print('Olá, me chamo %s. Eu tenho %d anos de idade, trabalho como %s e estou matriculado no curso de %s.' % (nome, idade, profissao, linguagem))"
   ]
  },
  {
   "cell_type": "markdown",
   "metadata": {},
   "source": [
    "## Método format\n",
    "\n",
    "Pouco semelhante ao método anterior devemos apenas informar {} e posteriormente informar a variável correspondente e ainda em ordem.  "
   ]
  },
  {
   "cell_type": "code",
   "execution_count": null,
   "metadata": {},
   "outputs": [
    {
     "name": "stdout",
     "output_type": "stream",
     "text": [
      "Olá, me chamo Tiago. Eu tenho 34 anos de idade, trabalho como Programador e estou matriculado no curso de Python.\n",
      "Olá, me chamo Tiago. Eu tenho 34 anos de idade, trabalho como Programador e estou matriculado no curso de Python.\n",
      "Olá, me chamo Tiago. Eu tenho 34 anos de idade, trabalho como Programador e estou matriculado no curso de Python.\n",
      "Olá, me chamo Tiago. Eu tenho 34 anos de idade, trabalho como Programador e estou matriculado no curso de Python.\n",
      "Olá, me chamo Tiago. Eu tenho 34 anos de idade, trabalho como Programador e estou matriculado no curso de Python.\n"
     ]
    }
   ],
   "source": [
    "dados = {'nome': 'Tiago', 'idade': 34, 'profissao': 'Programador', 'linguagem': 'Python'}\n",
    "\n",
    "## Evolução dos formatadores de strings\n",
    "\n",
    "print('Olá, me chamo {}. Eu tenho {} anos de idade, trabalho como {} e estou matriculado no curso de {}.'.format(nome, idade, profissao, linguagem))\n",
    "\n",
    "print('Olá, me chamo {3}. Eu tenho {2} anos de idade, trabalho como {1} e estou matriculado no curso de {0}.'.format(linguagem, profissao, idade, nome))\n",
    "\n",
    "print('Olá, me chamo {3}. Eu tenho {2} anos de idade, trabalho como {1} e estou matriculado no curso de {0}.'.format(linguagem, profissao, idade, nome))\n",
    "\n",
    "print('Olá, me chamo {nome}. Eu tenho {idade} anos de idade, trabalho como {profissao} e estou matriculado no curso de {linguagem}.'.format(linguagem=linguagem, profissao=profissao, idade=idade, nome=nome))\n",
    "\n",
    "print('Olá, me chamo {nome}. Eu tenho {idade} anos de idade, trabalho como {profissao} e estou matriculado no curso de {linguagem}.'.format(**dados))"
   ]
  },
  {
   "cell_type": "markdown",
   "metadata": {},
   "source": [
    "## F-Strings\n",
    "\n",
    "Interpolação mais utilizada e recomendada de se utilizar atualmente."
   ]
  },
  {
   "cell_type": "code",
   "execution_count": 23,
   "metadata": {},
   "outputs": [
    {
     "name": "stdout",
     "output_type": "stream",
     "text": [
      "O valor de PI: 3.14\n",
      "O valor de PI:     3.14159265\n"
     ]
    }
   ],
   "source": [
    "PI = 3.14159265359\n",
    "\n",
    "print(f'O valor de PI: {PI:0.2f}')\n",
    "print(f'O valor de PI: {PI:14.8f}')"
   ]
  }
 ],
 "metadata": {
  "kernelspec": {
   "display_name": ".venv",
   "language": "python",
   "name": "python3"
  },
  "language_info": {
   "codemirror_mode": {
    "name": "ipython",
    "version": 3
   },
   "file_extension": ".py",
   "mimetype": "text/x-python",
   "name": "python",
   "nbconvert_exporter": "python",
   "pygments_lexer": "ipython3",
   "version": "3.13.2"
  }
 },
 "nbformat": 4,
 "nbformat_minor": 2
}
