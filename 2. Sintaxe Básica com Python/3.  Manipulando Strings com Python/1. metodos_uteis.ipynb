{
 "cells": [
  {
   "cell_type": "markdown",
   "metadata": {},
   "source": [
    "## Maiúsculo, minúsculo e título\n",
    "\n",
    "Python, em comparação com outras linguagens, já possui funcionalidades de alterações caracteres."
   ]
  },
  {
   "cell_type": "code",
   "execution_count": 21,
   "metadata": {},
   "outputs": [
    {
     "name": "stdout",
     "output_type": "stream",
     "text": [
      "Maiúsculas:\tCURSO DE PYTHON\n",
      "Minúsculas:\tcurso de python\n",
      "Capitular:\tCurso De Python\n"
     ]
    }
   ],
   "source": [
    "curso = \"CuRso de PyThoN\"\n",
    "\n",
    "print(\"Maiúsculas:\\t\", end=\"\")\n",
    "print(curso.upper())\n",
    "\n",
    "print(\"Minúsculas:\\t\", end=\"\")\n",
    "print(curso.lower())\n",
    "\n",
    "print(\"Capitular:\\t\", end=\"\")\n",
    "print(curso.title())"
   ]
  },
  {
   "cell_type": "markdown",
   "metadata": {},
   "source": [
    "## Eliminando espaços em branco\n",
    "\n",
    "Também possui limpeza do espaços informados durante digitação do usuário."
   ]
  },
  {
   "cell_type": "code",
   "execution_count": 20,
   "metadata": {},
   "outputs": [
    {
     "name": "stdout",
     "output_type": "stream",
     "text": [
      "Removendo espaços: \n",
      "Esquerda:\t####|Curso de Python|     ####\n",
      "Direita:\t###       |Curso de Python|###\n",
      "Ambos:\t\t######|Curso de Python|#######\n"
     ]
    }
   ],
   "source": [
    "curso = \"       |Curso de Python|     \"\n",
    "\n",
    "print(\"Removendo espaços: \")\n",
    "\n",
    "print(\"Esquerda:\\t\", end=\"\")\n",
    "print((curso.lstrip().center(30, \"#\")))\n",
    "\n",
    "print(\"Direita:\\t\", end=\"\")\n",
    "print((curso.rstrip().center(30, \"#\")))\n",
    "\n",
    "print(\"Ambos:\\t\\t\", end=\"\")\n",
    "print((curso.strip().center(30, \"#\")))"
   ]
  },
  {
   "cell_type": "markdown",
   "metadata": {},
   "source": [
    "## Junções e centralizações\n",
    "\n",
    "Centralização funciona para incluir caracteres no começo e final para alcançarem a quantidade de caracteres informada.  \n",
    "Junções servem para incluir um caractere entre os caracteres existentes em uma string."
   ]
  },
  {
   "cell_type": "code",
   "execution_count": 13,
   "metadata": {},
   "outputs": [
    {
     "name": "stdout",
     "output_type": "stream",
     "text": [
      "Center: #######CURSO DE PYTHON########\n",
      "Join: C|U|R|S|O| |D|E| |P|Y|T|H|O|N\n"
     ]
    }
   ],
   "source": [
    "curso = \"Curso de Python\"\n",
    "\n",
    "print(\"Center: \", end=\"\")\n",
    "print((curso.center(30, \"#\")).upper())\n",
    "\n",
    "print(\"Join: \", end=\"\")\n",
    "print(\"|\".join(curso.upper()))"
   ]
  }
 ],
 "metadata": {
  "kernelspec": {
   "display_name": ".venv",
   "language": "python",
   "name": "python3"
  },
  "language_info": {
   "codemirror_mode": {
    "name": "ipython",
    "version": 3
   },
   "file_extension": ".py",
   "mimetype": "text/x-python",
   "name": "python",
   "nbconvert_exporter": "python",
   "pygments_lexer": "ipython3",
   "version": "3.13.2"
  }
 },
 "nbformat": 4,
 "nbformat_minor": 2
}
