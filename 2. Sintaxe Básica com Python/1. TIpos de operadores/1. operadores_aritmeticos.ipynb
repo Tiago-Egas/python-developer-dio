{
 "cells": [
  {
   "cell_type": "markdown",
   "metadata": {},
   "source": [
    "# Operadores Aritméticos\n",
    "\n",
    "Esta aula temos os operadores de cálculos matemáticos básicos e como apresentar eles numa saída diretamente ou através do uso de outra variável."
   ]
  },
  {
   "cell_type": "code",
   "execution_count": 1,
   "metadata": {},
   "outputs": [
    {
     "ename": "ValueError",
     "evalue": "could not convert string to float: ''",
     "output_type": "error",
     "traceback": [
      "\u001b[31m---------------------------------------------------------------------------\u001b[39m",
      "\u001b[31mValueError\u001b[39m                                Traceback (most recent call last)",
      "\u001b[36mCell\u001b[39m\u001b[36m \u001b[39m\u001b[32mIn[1]\u001b[39m\u001b[32m, line 4\u001b[39m\n\u001b[32m      1\u001b[39m produto_1 = \u001b[38;5;28minput\u001b[39m(\u001b[33m\"\u001b[39m\u001b[33mInforme o produto_1:\u001b[39m\u001b[38;5;130;01m\\n\u001b[39;00m\u001b[33mR= \u001b[39m\u001b[33m\"\u001b[39m)\n\u001b[32m      2\u001b[39m produto_2 = \u001b[38;5;28minput\u001b[39m(\u001b[33m\"\u001b[39m\u001b[33mInforme o produto_2:\u001b[39m\u001b[38;5;130;01m\\n\u001b[39;00m\u001b[33mR= \u001b[39m\u001b[33m\"\u001b[39m)\n\u001b[32m----> \u001b[39m\u001b[32m4\u001b[39m prod1 = \u001b[38;5;28;43mfloat\u001b[39;49m\u001b[43m(\u001b[49m\u001b[43mproduto_1\u001b[49m\u001b[43m)\u001b[49m\n\u001b[32m      5\u001b[39m prod2 = \u001b[38;5;28mfloat\u001b[39m(produto_2)\n\u001b[32m      7\u001b[39m \u001b[38;5;28mprint\u001b[39m(\u001b[33m\"\u001b[39m\u001b[33m\"\u001b[39m)\n",
      "\u001b[31mValueError\u001b[39m: could not convert string to float: ''"
     ]
    }
   ],
   "source": [
    "produto_1 = input(\"Informe o produto_1:\\nR= \")\n",
    "produto_2 = input(\"Informe o produto_2:\\nR= \")\n",
    "\n",
    "prod1 = float(produto_1)\n",
    "prod2 = float(produto_2)\n",
    "\n",
    "print(\"\")\n",
    "print(\"Operações Básicas: \")\n",
    "print(f\"{prod1} + {prod2} = \", prod1 + prod2)\n",
    "print(f\"{prod1} - {prod2} = \", prod1 - prod2)\n",
    "print(f\"{prod1} / {prod2} = \", prod1 / prod2)\n",
    "print(f\"{prod1} // {prod2} = \", prod1 // prod2)\n",
    "print(f\"{prod1} * {prod2} = \", prod1 * prod2)\n",
    "print(f\"{prod1} % {prod2} = \", prod1 % prod2)\n",
    "print(f\"{prod1} ** {prod2} = \", prod1 ** prod2)\n",
    "\n",
    "# Ordem das expressões, forçar com uso de parênteses\n",
    "print(\"\")\n",
    "expressao_1 = (prod1 + prod1) * prod2\n",
    "expressao_2 = (prod1 / prod2) + prod2 * ((prod1 - prod1) ** prod2)\n",
    "\n",
    "print(\"Expressões: \")\n",
    "print(f\"(produto_1 + produto_1) * produto_2 = {expressao_1}\")\n",
    "print(f\"(produto_1 / produto_2) + produto_2 * ((produto_1 - produto_1) ** produto_2) = {expressao_2}\")"
   ]
  }
 ],
 "metadata": {
  "kernelspec": {
   "display_name": ".venv",
   "language": "python",
   "name": "python3"
  },
  "language_info": {
   "codemirror_mode": {
    "name": "ipython",
    "version": 3
   },
   "file_extension": ".py",
   "mimetype": "text/x-python",
   "name": "python",
   "nbconvert_exporter": "python",
   "pygments_lexer": "ipython3",
   "version": "3.13.2"
  }
 },
 "nbformat": 4,
 "nbformat_minor": 2
}
