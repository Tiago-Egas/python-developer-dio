{
 "cells": [
  {
   "cell_type": "markdown",
   "metadata": {},
   "source": [
    "# Operadores de associação\n",
    "\n",
    "Nesta aula entendemos como validamos a existência, ou não, de um elemento dentro de uma sequência."
   ]
  },
  {
   "cell_type": "code",
   "execution_count": 3,
   "metadata": {},
   "outputs": [
    {
     "name": "stdout",
     "output_type": "stream",
     "text": [
      "False\n",
      "True\n",
      "True\n"
     ]
    }
   ],
   "source": [
    "# 'in' e 'not in' verifica se existe um elemento está em uma sequência\n",
    "\n",
    "frutas = [\"limão\", \"uva\", \"maçã\", \"pêra\", \"banana\",]\n",
    "print(\"laranja\" in (frutas))\n",
    "\n",
    "curso = \"Curso de Python\"\n",
    "print(\"Python\" in (curso))\n",
    "\n",
    "saques = [\"500\", \"200\", \"260\",]\n",
    "print(\"300\" not in (saques))\n"
   ]
  }
 ],
 "metadata": {
  "kernelspec": {
   "display_name": ".venv",
   "language": "python",
   "name": "python3"
  },
  "language_info": {
   "codemirror_mode": {
    "name": "ipython",
    "version": 3
   },
   "file_extension": ".py",
   "mimetype": "text/x-python",
   "name": "python",
   "nbconvert_exporter": "python",
   "pygments_lexer": "ipython3",
   "version": "3.13.2"
  }
 },
 "nbformat": 4,
 "nbformat_minor": 2
}
