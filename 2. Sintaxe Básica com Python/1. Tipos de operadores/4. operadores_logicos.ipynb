{
 "cells": [
  {
   "cell_type": "markdown",
   "metadata": {},
   "source": [
    "# Operadores Lógicos\n",
    "\n",
    "Nesta aula operamos os tipos de comparações entre textos e valores."
   ]
  },
  {
   "cell_type": "code",
   "execution_count": 7,
   "metadata": {},
   "outputs": [
    {
     "name": "stdout",
     "output_type": "stream",
     "text": [
      "Tabela verdade AND:\n",
      "Verdadeiro and Verdadeiro =  True\n",
      "Verdadeiro and Falso =  False\n",
      "Falso and Verdadeiro =  False\n",
      "Falso and Falso =  False\n"
     ]
    }
   ],
   "source": [
    "print(\"Tabela verdade AND:\")\n",
    "print('Verdadeiro and Verdadeiro = ', True and True)\n",
    "print('Verdadeiro and Falso = ', True and False)\n",
    "print('Falso and Verdadeiro = ', False and True)\n",
    "print('Falso and Falso = ', False and False)"
   ]
  },
  {
   "cell_type": "code",
   "execution_count": 8,
   "metadata": {},
   "outputs": [
    {
     "name": "stdout",
     "output_type": "stream",
     "text": [
      "Tabela verdade OR:\n",
      "Verdadeiro or Verdadeiro =  True\n",
      "Verdadeiro or Falso =  True\n",
      "Falso or Verdadeiro =  True\n",
      "Falso or Falso =  False\n"
     ]
    }
   ],
   "source": [
    "print(\"Tabela verdade OR:\")\n",
    "print('Verdadeiro or Verdadeiro = ', True or True)\n",
    "print('Verdadeiro or Falso = ', True or False)\n",
    "print('Falso or Verdadeiro = ', False or True)\n",
    "print('Falso or Falso = ', False or False)"
   ]
  },
  {
   "cell_type": "code",
   "execution_count": 9,
   "metadata": {},
   "outputs": [
    {
     "name": "stdout",
     "output_type": "stream",
     "text": [
      "Tabela verdade NOT:\n",
      "not (Verdadeiro or Verdadeiro) =  False\n",
      "not (Verdadeiro or Falso) =  False\n",
      "not (Falso or Verdadeiro) =  False\n",
      "not (Falso or Falso) =  True\n"
     ]
    }
   ],
   "source": [
    "print(\"Tabela verdade NOT:\")\n",
    "print('not (Verdadeiro or Verdadeiro) = ', not (True and True))\n",
    "print('not (Verdadeiro or Falso) = ', not (True or False))\n",
    "print('not (Falso or Verdadeiro) = ', not (False or True))\n",
    "print('not (Falso or Falso) = ', not (False or False))"
   ]
  },
  {
   "cell_type": "code",
   "execution_count": 10,
   "metadata": {},
   "outputs": [
    {
     "name": "stdout",
     "output_type": "stream",
     "text": [
      "Tabela verdade XOR:\n",
      "Verdadeiro or Verdadeiro =  False\n",
      "Verdadeiro ^ Falso =  True\n",
      "Falso ^ Verdadeiro =  True\n",
      "Falso ^ Falso =  False\n"
     ]
    }
   ],
   "source": [
    "print(\"Tabela verdade XOR:\")\n",
    "print('Verdadeiro or Verdadeiro = ', True ^ True)\n",
    "print('Verdadeiro ^ Falso = ', True ^ False)\n",
    "print('Falso ^ Verdadeiro = ', False ^ True)\n",
    "print('Falso ^ Falso = ', False ^ False)"
   ]
  },
  {
   "cell_type": "code",
   "execution_count": 11,
   "metadata": {},
   "outputs": [
    {
     "name": "stdout",
     "output_type": "stream",
     "text": [
      "\n",
      "Conta normal com saldo =  True\n",
      "Conta especial com saldo =  True\n"
     ]
    }
   ],
   "source": [
    "saldo, saque, limite, conta_especial = (1000, 200, 100, True)\n",
    "\n",
    "conta_normal_com_saldo_suficiente = saldo >= saque and saque <= limite or conta_especial and saldo >= saque\n",
    "conta_especial_com_saldo_suficiente = (saldo >= saque and saque <= limite) or (conta_especial and saldo >= saque)\n",
    "\n",
    "print(\"\")\n",
    "print(\"Conta normal com saldo = \", conta_normal_com_saldo_suficiente)\n",
    "print(\"Conta especial com saldo = \", conta_especial_com_saldo_suficiente)"
   ]
  }
 ],
 "metadata": {
  "kernelspec": {
   "display_name": ".venv",
   "language": "python",
   "name": "python3"
  },
  "language_info": {
   "codemirror_mode": {
    "name": "ipython",
    "version": 3
   },
   "file_extension": ".py",
   "mimetype": "text/x-python",
   "name": "python",
   "nbconvert_exporter": "python",
   "pygments_lexer": "ipython3",
   "version": "3.13.2"
  }
 },
 "nbformat": 4,
 "nbformat_minor": 2
}
