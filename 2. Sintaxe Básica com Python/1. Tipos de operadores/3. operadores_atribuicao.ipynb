{
 "cells": [
  {
   "cell_type": "markdown",
   "metadata": {},
   "source": [
    "# Operadores de atribuição\n",
    "\n",
    "Nesta aula vimos como atribuir valores conforme os tipos de operadores.\n",
    "Os mesmos operadores aritméticos podem ser usados aqui."
   ]
  },
  {
   "cell_type": "code",
   "execution_count": 33,
   "metadata": {},
   "outputs": [
    {
     "name": "stdout",
     "output_type": "stream",
     "text": [
      "\tExtrato bancário\t\n",
      "##################################\n",
      "\n",
      "Saldo inicial: \t...\t... 6000\n",
      "Transferência: \t...\t... 6400\n",
      "Multa atraso: \t...\t... 6300\n",
      "Rend. Bitcoin: \t...\t... 12600\n",
      "Imp. de Renda: \t...\t... 10500.0\n",
      "Transferência: \t...\t... 5250.0\n",
      "Pagamento PIX: \t...\t... 10500.0\n",
      "Investimentos: \t...\t... 66900.16037678036\n",
      "##################################\n",
      "\n",
      "Saldo Final: \t...\t... 66900.16037678036\n"
     ]
    }
   ],
   "source": [
    "print(\"\\tExtrato bancário\\t\")\n",
    "print(\"##################################\\n\")\n",
    "saldo = 6000\n",
    "print(f\"Saldo inicial: \\t...\\t... {saldo}\")\n",
    "saldo += 400\n",
    "print(f\"Transferência: \\t...\\t... {saldo}\")\n",
    "saldo -= 100\n",
    "print(f\"Multa atraso: \\t...\\t... {saldo}\")\n",
    "saldo *= 2\n",
    "print(f\"Rend. Bitcoin: \\t...\\t... {saldo}\")\n",
    "saldo /= 1.2\n",
    "print(f\"Imp. de Renda: \\t...\\t... {saldo}\")\n",
    "saldo //= 2\n",
    "print(f\"Transferência: \\t...\\t... {saldo}\")\n",
    "saldo *= 2\n",
    "print(f\"Pagamento PIX: \\t...\\t... {saldo}\")\n",
    "saldo **= 1.2\n",
    "print(f\"Investimentos: \\t...\\t... {saldo}\")\n",
    "\n",
    "print(\"##################################\\n\")\n",
    "print(f\"Saldo Final: \\t...\\t... {saldo}\")"
   ]
  }
 ],
 "metadata": {
  "kernelspec": {
   "display_name": ".venv",
   "language": "python",
   "name": "python3"
  },
  "language_info": {
   "codemirror_mode": {
    "name": "ipython",
    "version": 3
   },
   "file_extension": ".py",
   "mimetype": "text/x-python",
   "name": "python",
   "nbconvert_exporter": "python",
   "pygments_lexer": "ipython3",
   "version": "3.13.2"
  }
 },
 "nbformat": 4,
 "nbformat_minor": 2
}
