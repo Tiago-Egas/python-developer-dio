{
 "cells": [
  {
   "cell_type": "markdown",
   "metadata": {},
   "source": [
    "# Indentação e Blocos\n",
    "\n",
    "Nesta aula nós vimos uma melhor forma de como o Python interpreta o código escrito e como ele afeta a execução."
   ]
  },
  {
   "cell_type": "code",
   "execution_count": 3,
   "metadata": {},
   "outputs": [
    {
     "name": "stdout",
     "output_type": "stream",
     "text": [
      "DEPOSITANDO\n",
      "...\n",
      "...\n",
      "Saldo menor que o valor de saque!\n",
      "Seu saldo atual é: 200.0!\n",
      "\n",
      "\n",
      "Saldo = 200.0\t|\tValor = 900.0\n",
      "\n",
      "\n",
      "SACANDO\n",
      "...\n",
      "...\n",
      "Seu saldo atual é: 200.0!\n",
      "\n",
      "\n",
      "Saldo = 200.0\t|\tValor = 900.0\n",
      "\n",
      "\n",
      "\n",
      "\n",
      "Obrigado por ser nosso cliente, tenha um bom dia!\n",
      "\n",
      "\n"
     ]
    }
   ],
   "source": [
    "valor = float(input(\"Informe o valor: \"))\n",
    "saldo = float(input(\"Informe o saldo: \"))\n",
    "\n",
    "def sacar(valor):\n",
    "    valor_saque = valor\n",
    "    saldo_saque = saldo\n",
    "\n",
    "    if saldo_saque >= valor_saque:\n",
    "        print(\"Saldo maior que o valor.\\nSaque liberado!\")\n",
    "\n",
    "    if saldo_saque < valor_saque:\n",
    "        print(\"Saldo menor que o valor de saque!\")\n",
    "    \n",
    "    print(f\"Seu saldo atual é: {saldo_saque}!\\n\\n\")\n",
    "    print(f\"Saldo = {saldo_saque}\\t|\\tValor = {valor_saque}\\n\\n\")\n",
    "\n",
    "def depositar(valor):\n",
    "    saldo_deposito = saldo\n",
    "    valor_deposito = valor\n",
    "\n",
    "    if saldo_deposito > valor_deposito:\n",
    "        saldo_deposito += valor_deposito\n",
    "        \n",
    "        print(f\"{valor_deposito} foi depositado!\")\n",
    "    \n",
    "    print(f\"Seu saldo atual é: {saldo_deposito}!\\n\\n\")\n",
    "    print(f\"Saldo = {saldo}\\t|\\tValor = {valor_deposito}\\n\\n\")\n",
    "\n",
    "print(\"DEPOSITANDO\\n...\\n...\")\n",
    "sacar(valor)\n",
    "\n",
    "print(\"SACANDO\\n...\\n...\")\n",
    "depositar(valor)\n",
    "\n",
    "print(\"\\n\\nObrigado por ser nosso cliente, tenha um bom dia!\\n\\n\")"
   ]
  }
 ],
 "metadata": {
  "kernelspec": {
   "display_name": ".venv",
   "language": "python",
   "name": "python3"
  },
  "language_info": {
   "codemirror_mode": {
    "name": "ipython",
    "version": 3
   },
   "file_extension": ".py",
   "mimetype": "text/x-python",
   "name": "python",
   "nbconvert_exporter": "python",
   "pygments_lexer": "ipython3",
   "version": "3.13.2"
  }
 },
 "nbformat": 4,
 "nbformat_minor": 2
}
