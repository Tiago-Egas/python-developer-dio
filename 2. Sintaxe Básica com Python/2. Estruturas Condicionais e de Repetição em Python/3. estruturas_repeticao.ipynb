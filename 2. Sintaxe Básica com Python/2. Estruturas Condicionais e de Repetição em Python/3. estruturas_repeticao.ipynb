{
 "cells": [
  {
   "cell_type": "markdown",
   "metadata": {},
   "source": [
    "# Estruturas de Repetição\n",
    "\n",
    "Nesta aula aprendemos como realizar repetições e blocos de código.  \n",
    "As repetições são determinadas conforme cada estrutura, sendo definida ou de forma lógica."
   ]
  },
  {
   "cell_type": "markdown",
   "metadata": {},
   "source": [
    "## For\n",
    "\n",
    "Recomendável quando sabemos a quantidade de itens iteráveis dentro da sequência."
   ]
  },
  {
   "cell_type": "code",
   "execution_count": 14,
   "metadata": {},
   "outputs": [
    {
     "name": "stdout",
     "output_type": "stream",
     "text": [
      "eaouoeeao\n",
      "Executa no fim do programa.\n"
     ]
    }
   ],
   "source": [
    "texto = \"the crazy dog jumps over the lazy fox\"\n",
    "\n",
    "VOGAIS = \"AEIOU\"\n",
    "\n",
    "for letra in texto:\n",
    "\n",
    "    if letra.upper() in VOGAIS:\n",
    "        print(letra, end=\"\")\n",
    "\n",
    "print()\n",
    "print(\"Executa no fim do programa.\")"
   ]
  },
  {
   "cell_type": "markdown",
   "metadata": {},
   "source": [
    "## For / Else\n",
    "\n",
    "Não muito comum no dia dia, mas é uma escrita mais formal da última execução."
   ]
  },
  {
   "cell_type": "code",
   "execution_count": 15,
   "metadata": {},
   "outputs": [
    {
     "name": "stdout",
     "output_type": "stream",
     "text": [
      "eaouoeeao\n",
      "Executa no fim do programa.\n"
     ]
    }
   ],
   "source": [
    "texto = \"the crazy dog jumps over the lazy fox\"\n",
    "\n",
    "VOGAIS = \"AEIOU\"\n",
    "\n",
    "for letra in texto:\n",
    "\n",
    "    if letra.upper() in VOGAIS:\n",
    "        print(letra, end=\"\")\n",
    "\n",
    "else:\n",
    "\n",
    "    print()\n",
    "    print(\"Executa no fim do programa.\")"
   ]
  },
  {
   "cell_type": "markdown",
   "metadata": {},
   "source": [
    "## Range\n",
    "\n",
    "Função imbuída no interpretador Python usada para produzir sequência de números com início e fim delimitados.  \n",
    "Possui 3 argumentos principais: stop, start e step"
   ]
  },
  {
   "cell_type": "code",
   "execution_count": 19,
   "metadata": {},
   "outputs": [
    {
     "name": "stdout",
     "output_type": "stream",
     "text": [
      "1\t2\t3\t4\t5\t6\t7\t8\t9\t10\t"
     ]
    }
   ],
   "source": [
    "for numero in range(1,11):\n",
    "    print(numero, end=\"\\t\")"
   ]
  },
  {
   "cell_type": "code",
   "execution_count": 21,
   "metadata": {},
   "outputs": [
    {
     "name": "stdout",
     "output_type": "stream",
     "text": [
      "0\t5\t10\t15\t20\t25\t30\t35\t40\t45\t50\t"
     ]
    }
   ],
   "source": [
    "for numero in range(0,51, 5):\n",
    "    print(numero, end=\"\\t\")"
   ]
  },
  {
   "cell_type": "markdown",
   "metadata": {},
   "source": [
    "## While\n",
    "\n",
    "Esta repetição é utilizada quando não temos certeza da quantidade e vezes fixas que o código será executada.  \n",
    "Melhor utilizada quando há uma validação lógica de quando o usuário está preparado para sair da aplicação."
   ]
  },
  {
   "cell_type": "code",
   "execution_count": 23,
   "metadata": {},
   "outputs": [
    {
     "name": "stdout",
     "output_type": "stream",
     "text": [
      "sacando...\n"
     ]
    }
   ],
   "source": [
    "opcao = 1\n",
    "\n",
    "while opcao != 0:\n",
    "    opcao = int(input(\"[1] Sacar\\n[2] Extrato\\n[0] Sair\\nEscolha: \"))\n",
    "\n",
    "    if opcao == 1:\n",
    "        print(\"sacando...\")\n",
    "    elif opcao == 2:\n",
    "        print(\"Exibindo o extrato...\")"
   ]
  },
  {
   "cell_type": "markdown",
   "metadata": {},
   "source": [
    "## While / Else\n",
    "\n",
    "Executa da mesma forma que o while, mas com a mesma funcionalidade de execução do fot/else"
   ]
  },
  {
   "cell_type": "code",
   "execution_count": 24,
   "metadata": {},
   "outputs": [
    {
     "name": "stdout",
     "output_type": "stream",
     "text": [
      "sacando...\n",
      "sacando...\n",
      "sacando...\n",
      "Exibindo o extrato...\n",
      "sacando...\n",
      "Obrigado por usar nosso sistema bancário, até logo!\n"
     ]
    }
   ],
   "source": [
    "opcao = 1\n",
    "\n",
    "while opcao != 0:\n",
    "    opcao = int(input(\"[1] Sacar\\n[2] Extrato\\n[0] Sair\\nEscolha: \"))\n",
    "\n",
    "    if opcao == 1:\n",
    "        print(\"sacando...\")\n",
    "    elif opcao == 2:\n",
    "        print(\"Exibindo o extrato...\")\n",
    "\n",
    "else:\n",
    "    print(\"Obrigado por usar nosso sistema bancário, até logo!\")"
   ]
  },
  {
   "cell_type": "markdown",
   "metadata": {},
   "source": [
    "## Break e Continue\n",
    "\n",
    "Duas palavras reservadas específicas para as estruturas de repetição.  \n",
    "Break faz uma saída do sistema.  \n",
    "Continue faz passada do iterador atual para evitar algum tipo validação específica."
   ]
  },
  {
   "cell_type": "code",
   "execution_count": 10,
   "metadata": {},
   "outputs": [
    {
     "name": "stdout",
     "output_type": "stream",
     "text": [
      "100 2 3 4 1 5 "
     ]
    }
   ],
   "source": [
    "while True:\n",
    "    numero = int(input(\"Informe um número: \"))\n",
    "\n",
    "    if numero == 10:\n",
    "        break\n",
    "\n",
    "    print(numero, end=\" \")"
   ]
  },
  {
   "cell_type": "code",
   "execution_count": 9,
   "metadata": {},
   "outputs": [
    {
     "name": "stdout",
     "output_type": "stream",
     "text": [
      "0 2 4 6 8 "
     ]
    }
   ],
   "source": [
    "for numero in range(100):\n",
    "\n",
    "    if not (numero % 2 == 0):\n",
    "        continue\n",
    "\n",
    "    if numero == 10:\n",
    "        break\n",
    "\n",
    "    print(numero, end=\" \")"
   ]
  }
 ],
 "metadata": {
  "kernelspec": {
   "display_name": ".venv",
   "language": "python",
   "name": "python3"
  },
  "language_info": {
   "codemirror_mode": {
    "name": "ipython",
    "version": 3
   },
   "file_extension": ".py",
   "mimetype": "text/x-python",
   "name": "python",
   "nbconvert_exporter": "python",
   "pygments_lexer": "ipython3",
   "version": "3.13.2"
  }
 },
 "nbformat": 4,
 "nbformat_minor": 2
}
