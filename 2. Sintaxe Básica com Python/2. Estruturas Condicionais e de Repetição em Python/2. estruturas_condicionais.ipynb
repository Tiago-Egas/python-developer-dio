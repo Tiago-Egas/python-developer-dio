{
 "cells": [
  {
   "cell_type": "markdown",
   "metadata": {},
   "source": [
    "# Estruturas Condicionais\n",
    "\n",
    "Nesta aula vimos como validar informações em variáveis utilizando os operadores de comparação para o programa identificar qual caminho o programa deve seguir para sua próxima execução."
   ]
  },
  {
   "cell_type": "markdown",
   "metadata": {},
   "source": [
    "## IF comum\n",
    "\n",
    "forma mais recomendada para validar informações em grandes aplicações"
   ]
  },
  {
   "cell_type": "code",
   "execution_count": 8,
   "metadata": {},
   "outputs": [
    {
     "name": "stdout",
     "output_type": "stream",
     "text": [
      "Validação da idade para habilitar com CNH\n",
      "Maior de idade, pode tirar a CNH\n"
     ]
    }
   ],
   "source": [
    "MAIOR_IDADE = 18\n",
    "\n",
    "print(\"Validação da idade para habilitar com CNH\")\n",
    "\n",
    "idade = int(input(\"Informe a sua idade:\"))\n",
    "\n",
    "if idade >= MAIOR_IDADE:\n",
    "    print(\"Maior de idade, pode tirar a CNH\")\n",
    "\n",
    "if idade < MAIOR_IDADE:\n",
    "    print(\"Ainda não pode tirar a CNH!\")"
   ]
  },
  {
   "cell_type": "markdown",
   "metadata": {},
   "source": [
    "## If / Else\n",
    "\n",
    "Utilizável quando a validação pode ser classificada como \"ou um, ou outro\""
   ]
  },
  {
   "cell_type": "code",
   "execution_count": 3,
   "metadata": {},
   "outputs": [
    {
     "name": "stdout",
     "output_type": "stream",
     "text": [
      "Saldo maior que saque!\n"
     ]
    }
   ],
   "source": [
    "saldo = 2000\n",
    "saque = float(input(\"Informe o valor do saque: \"))\n",
    "\n",
    "if saldo >= saque:\n",
    "    print(\"Saldo maior que saque!\")\n",
    "else:\n",
    "    print(\"Saldo insuficiente!\")\n"
   ]
  },
  {
   "cell_type": "markdown",
   "metadata": {},
   "source": [
    "## IF aninhado (If, Elif e Else)\n",
    "\n",
    "Recomendável de utilizar quando a validação precisa ser precisa na classificação dos dados.  \n",
    "Cada ocorrência de ELIF será uma validação apropriada para a classificação do dado validado."
   ]
  },
  {
   "cell_type": "code",
   "execution_count": null,
   "metadata": {},
   "outputs": [
    {
     "name": "stdout",
     "output_type": "stream",
     "text": [
      "Saque realizado!\n",
      "Saldo atual: 2000.0\n",
      "Obrigado por confiar nos nossos serviços!\n",
      "Volte sempre!\n"
     ]
    }
   ],
   "source": [
    "import sys\n",
    "\n",
    "opcao = int(input(\"Informe uma opção: \\n\\t[1] Sacar\\n\\t[2] Exibir saldo.\\n\"))\n",
    "saldo = float(2900)\n",
    "\n",
    "if opcao == 1:\n",
    "    valor = float(input(\"Informe a quantia para o saque: \"))\n",
    "    if valor > saldo:\n",
    "        print(\"Saldo insuficiente!\")\n",
    "    else:\n",
    "        saldo -= valor\n",
    "        print(f\"Saque realizado!\\nSaldo atual: {saldo}\")\n",
    "elif opcao == 2:\n",
    "    print(\"Exibindo extrato...\")\n",
    "    if saldo == 0:\n",
    "        print(\"Saldo zerado!\")\n",
    "    elif saldo < 0:\n",
    "        print(f\"Saldo Negativo: {saldo}!\")\n",
    "    else:\n",
    "        print(f\"Seu saldo atual é: {saldo}\")\n",
    "        \n",
    "else:\n",
    "    sys.exit(\"Opção inválida!\")\n",
    "\n",
    "print(\"\\n\\nObrigado por confiar nos nossos serviços!\\nVolte sempre!\")"
   ]
  },
  {
   "cell_type": "code",
   "execution_count": 25,
   "metadata": {},
   "outputs": [
    {
     "name": "stdout",
     "output_type": "stream",
     "text": [
      "\n",
      "\n",
      "Sistema não identificou o seu tipo de conta.\n",
      "Entre em contato com seu gerente!\n"
     ]
    }
   ],
   "source": [
    "conta_normal = False\n",
    "conta_universitária = False\n",
    "\n",
    "saldo = 2000\n",
    "saque = 2200\n",
    "cheque_especial = 450\n",
    "\n",
    "if conta_normal:\n",
    "\n",
    "    if saldo >= saque:\n",
    "        print(\"Saque realizado com sucesso\")\n",
    "    elif saque <= (saldo + cheque_especial):\n",
    "        print(\"Saque realizado com uso de cheque especial!\")\n",
    "    else:\n",
    "        print(\"Não foi possível realizar o saque!\")\n",
    "\n",
    "elif conta_universitária:\n",
    "\n",
    "    if saldo >= saque:\n",
    "        print(\"Saque realizado com sucesso!\")\n",
    "    else:\n",
    "        print(\"Saldo insuficiente!\")\n",
    "\n",
    "else:\n",
    "    \n",
    "    print(\"\\n\\nSistema não identificou o seu tipo de conta.\\nEntre em contato com seu gerente!\")"
   ]
  },
  {
   "cell_type": "markdown",
   "metadata": {},
   "source": [
    "# IF Ternário\n",
    "\n",
    "Funcionalidade similar ao IF/Else, mas escrito de forma compacta.\n",
    "Mais utilizado para validações simples e curtas."
   ]
  },
  {
   "cell_type": "code",
   "execution_count": 29,
   "metadata": {},
   "outputs": [
    {
     "name": "stdout",
     "output_type": "stream",
     "text": [
      "Sucesso ao realizar o saque!\n"
     ]
    }
   ],
   "source": [
    "saldo = 3000\n",
    "saque = 2500\n",
    "\n",
    "status = \"Sucesso\" if saldo >= saque else \"Falha\"\n",
    "\n",
    "print(f\"{status} ao realizar o saque!\")"
   ]
  }
 ],
 "metadata": {
  "kernelspec": {
   "display_name": ".venv",
   "language": "python",
   "name": "python3"
  },
  "language_info": {
   "codemirror_mode": {
    "name": "ipython",
    "version": 3
   },
   "file_extension": ".py",
   "mimetype": "text/x-python",
   "name": "python",
   "nbconvert_exporter": "python",
   "pygments_lexer": "ipython3",
   "version": "3.13.2"
  }
 },
 "nbformat": 4,
 "nbformat_minor": 2
}
