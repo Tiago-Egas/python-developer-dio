{
 "cells": [
  {
   "cell_type": "markdown",
   "metadata": {},
   "source": [
    "## Funções - Parte 1\n",
    "\n",
    "É um bloco de código com parâmetros pré configurados e que podem ou não ter valores padrões.  \n",
    "Possui um conjunto e entradas e outro conjunto de saídas.  \n",
    "Normalmente utilizado em tarefas repetitivas, evitando reescrever o mesmo código várias vezes."
   ]
  },
  {
   "cell_type": "markdown",
   "metadata": {},
   "source": [
    "## Primeiras funções"
   ]
  },
  {
   "cell_type": "code",
   "execution_count": 17,
   "metadata": {},
   "outputs": [
    {
     "name": "stdout",
     "output_type": "stream",
     "text": [
      "Olá, Mundo!\n",
      "Tiago, bem-vindo ao Curso de Python!\n",
      "Olá, Tiago!\n",
      "Olá, Fulano!\n"
     ]
    }
   ],
   "source": [
    "def ola_mundo():\n",
    "    print('Olá, Mundo!')\n",
    "\n",
    "def boas_vindas(nome):\n",
    "    print(f\"{nome}, bem-vindo ao Curso de Python!\")\n",
    "\n",
    "def saudacao(nome=\"Tiago\"):\n",
    "    print(f\"Olá, {nome}!\")\n",
    "\n",
    "\n",
    "ola_mundo()\n",
    "boas_vindas(\"Tiago\")\n",
    "saudacao()\n",
    "saudacao(\"Fulano\")"
   ]
  },
  {
   "cell_type": "markdown",
   "metadata": {},
   "source": [
    "## Retorno de valores\n",
    "\n",
    "As funções def podem retornar diretamente os valores do parâmetros processados."
   ]
  },
  {
   "cell_type": "code",
   "execution_count": 22,
   "metadata": {},
   "outputs": [
    {
     "name": "stdout",
     "output_type": "stream",
     "text": [
      "150\n",
      "(11, 9)\n"
     ]
    }
   ],
   "source": [
    "def calcular_total(numeros):\n",
    "    return sum(numeros)\n",
    "\n",
    "\n",
    "print(calcular_total([10, 20, 30, 40, 50]))\n",
    "\n",
    "def retorna_sucessor_antecessor(numero):\n",
    "    return numero + 1, numero - 1\n",
    "\n",
    "print(retorna_sucessor_antecessor(10))  # o retorno é uma tupla, pois o resultado é composto por mais de um valor"
   ]
  },
  {
   "cell_type": "markdown",
   "metadata": {},
   "source": [
    "## Argumentos Nomeados\n",
    "\n",
    "São argumentos que devem ser passados para parâmetros da função."
   ]
  },
  {
   "cell_type": "code",
   "execution_count": 3,
   "metadata": {},
   "outputs": [
    {
     "name": "stdout",
     "output_type": "stream",
     "text": [
      "Carro inserido: Marca: Fiat, Modelo: Uno, Ano: 2020, Placa: ABC-1234\n",
      "\n",
      "\n",
      "Carro inserido: Marca: Volkswagen, Modelo: Chevrolet, Ano: 2022, Placa: FEG-8768\n",
      "\n",
      "\n",
      "Carro inserido: Marca: teste, Modelo: testado, Ano: novi, Placa: 1352n43\n",
      "\n",
      "\n"
     ]
    }
   ],
   "source": [
    "def salvar_carro(marca, modelo, ano, placa):\n",
    "    print(f\"Carro inserido: Marca: {marca}, Modelo: {modelo}, Ano: {ano}, Placa: {placa}\\n\\n\")\n",
    "\n",
    "salvar_carro(\"Fiat\", \"Uno\", 2020, \"ABC-1234\")\n",
    "salvar_carro(ano=2022, marca=\"Volkswagen\", modelo=\"Chevrolet\", placa=\"FEG-8768\")\n",
    "\n",
    "salvar_carro(marca=input(\"Marca: \"), modelo=input(\"Modelo: \"), ano=input(\"Ano: \"), placa=input(\"Placa: \"))\n"
   ]
  },
  {
   "cell_type": "markdown",
   "metadata": {},
   "source": [
    "## Args & Kwargs\n",
    "\n",
    "Quando definidos (*args e **kwars), o método recebe os valores como tupla e dicionário, respectivamente.  \n",
    "Arg e Kwargs são apenas uma convenção, podendo ser qualquer nomenclatura, desde que usados os sinais precedentes, * e **, respectivamente."
   ]
  },
  {
   "cell_type": "code",
   "execution_count": 8,
   "metadata": {},
   "outputs": [
    {
     "name": "stdout",
     "output_type": "stream",
     "text": [
      "Carro inserido: Marca: Ford, Modelo: Ka, Ano: 2021, Placa: XYZ-9876\n",
      "\n",
      "\n",
      "Segunda-feira, 17 de Março de 2025\n",
      "\n",
      "Zen of Python\n",
      "Beautiful is better than ugly.\n",
      "Explicit is better than implicit.\n",
      "Simple is better than complex.\n",
      "Complex is better than complicated.\n",
      "Readability counts.\n",
      "Special cases aren't special enough to break the rules.\n",
      "Although practicality beats purity.\n",
      "Errors should never pass silently.\n",
      "Unless explicitly silenced.\n",
      "In the face of ambiguity, refuse the temptation to guess.\n",
      "There should be one-- and preferably only one --obvious way to do it.\n",
      "Although that way may not be obvious at first unless you're Dutch.\n",
      "Now is better than never.\n",
      "Although never is often better than *right* now.\n",
      "If the implementation is hard to explain, it's a bad idea.\n",
      "If the implementation is easy to explain, it may be a good idea.\n",
      "\n",
      "Author: Tim Peters\n",
      "Year: 2004\n"
     ]
    }
   ],
   "source": [
    "\n",
    "def salvar_carro(marca, modelo, ano, placa):\n",
    "    print(f\"Carro inserido: Marca: {marca}, Modelo: {modelo}, Ano: {ano}, Placa: {placa}\\n\\n\")\n",
    "\n",
    "salvar_carro(**{\"marca\": \"Ford\", \"modelo\": \"Ka\", \"ano\": 2021, \"placa\": \"XYZ-9876\"})\n",
    "\n",
    "\n",
    "def exibir_poema(data_extenso, *lista, **dicionario):\n",
    "    texto = \"\\n\".join(lista)\n",
    "    meta_dados = \"\\n\".join([f\"{chave.title()}: {valor}\" for chave, valor in dicionario.items()])\n",
    "    mensagem = f\"{data_extenso}\\n\\n{texto}\\n\\n{meta_dados}\"\n",
    "    print(mensagem)\n",
    "\n",
    "exibir_poema(\n",
    "    \"Segunda-feira, 17 de Março de 2025\",\n",
    "    \"Zen of Python\",\n",
    "    \"Beautiful is better than ugly.\",\n",
    "    \"Explicit is better than implicit.\", \n",
    "    \"Simple is better than complex.\",\n",
    "    \"Complex is better than complicated.\",\n",
    "    \"Readability counts.\",\n",
    "    \"Special cases aren't special enough to break the rules.\",\n",
    "    \"Although practicality beats purity.\",\n",
    "    \"Errors should never pass silently.\",\n",
    "    \"Unless explicitly silenced.\",\n",
    "    \"In the face of ambiguity, refuse the temptation to guess.\",\n",
    "    \"There should be one-- and preferably only one --obvious way to do it.\",\n",
    "    \"Although that way may not be obvious at first unless you're Dutch.\",\n",
    "    \"Now is better than never.\",\n",
    "    \"Although never is often better than *right* now.\",\n",
    "    \"If the implementation is hard to explain, it's a bad idea.\",\n",
    "    \"If the implementation is easy to explain, it may be a good idea.\",\n",
    "    author=\"Tim Peters\",\n",
    "    year=2004\n",
    ")\n"
   ]
  },
  {
   "cell_type": "markdown",
   "metadata": {},
   "source": [
    "## Parâmetros somente por posição\n",
    "\n",
    "Por padrão, os argumentos podem ser passados para um função Python tanto por posição quanto explicitamente pelo nome. \n",
    "No entanto, para manter legibilidade, faz sentido o dev visualizar apenas a definição da função para determinar os itens passados: \n",
    "por posição, posição e nome, ou por nome."
   ]
  },
  {
   "cell_type": "code",
   "execution_count": 3,
   "metadata": {},
   "outputs": [
    {
     "name": "stdout",
     "output_type": "stream",
     "text": [
      "Palio 2019 HFT-4782 Fiat 1.0 Gasolina\n"
     ]
    }
   ],
   "source": [
    "# Posição apenas\n",
    "\n",
    "def criar_carro(modelo, ano, placa, /, marca, motor, combustível):\n",
    "        print(modelo, ano, placa, marca, motor, combustível)\n",
    "\n",
    "\n",
    "criar_carro(\"Palio\", 2019, \"HFT-4782\", marca=\"Fiat\", motor=\"1.0\", combustível=\"Gasolina\")\n",
    "\n"
   ]
  },
  {
   "cell_type": "markdown",
   "metadata": {},
   "source": [
    "## Objetos de primeira classe\n",
    "\n"
   ]
  },
  {
   "cell_type": "markdown",
   "metadata": {},
   "source": [
    "## Escopo local e global\n",
    "\n"
   ]
  }
 ],
 "metadata": {
  "kernelspec": {
   "display_name": ".venv",
   "language": "python",
   "name": "python3"
  },
  "language_info": {
   "codemirror_mode": {
    "name": "ipython",
    "version": 3
   },
   "file_extension": ".py",
   "mimetype": "text/x-python",
   "name": "python",
   "nbconvert_exporter": "python",
   "pygments_lexer": "ipython3",
   "version": "3.13.2"
  }
 },
 "nbformat": 4,
 "nbformat_minor": 2
}
