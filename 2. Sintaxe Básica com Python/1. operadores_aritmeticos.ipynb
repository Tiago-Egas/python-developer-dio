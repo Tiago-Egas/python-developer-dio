{
 "cells": [
  {
   "cell_type": "code",
   "execution_count": 1,
   "metadata": {},
   "outputs": [
    {
     "name": "stdout",
     "output_type": "stream",
     "text": [
      "\n",
      "Operações Básicas: \n",
      "10.0 + 20.0 =  30.0\n",
      "10.0 - 20.0 =  -10.0\n",
      "10.0 / 20.0 =  0.5\n",
      "10.0 // 20.0 =  0.0\n",
      "10.0 * 20.0 =  200.0\n",
      "10.0 % 20.0 =  10.0\n",
      "10.0 ** 20.0 =  1e+20\n",
      "\n",
      "Expressões: \n",
      "(produto_1 + produto_1) * produto_2 = 400.0\n",
      "(produto_1 / produto_2) + produto_2 * ((produto_1 - produto_1) ** produto_2) = 0.5\n"
     ]
    }
   ],
   "source": [
    "produto_1 = input(\"Informe o produto_1:\\nR= \")\n",
    "produto_2 = input(\"Informe o produto_2:\\nR= \")\n",
    "\n",
    "prod1 = float(produto_1)\n",
    "prod2 = float(produto_2)\n",
    "\n",
    "print(\"\")\n",
    "print(\"Operações Básicas: \")\n",
    "print(f\"{prod1} + {prod2} = \", prod1 + prod2)\n",
    "print(f\"{prod1} - {prod2} = \", prod1 - prod2)\n",
    "print(f\"{prod1} / {prod2} = \", prod1 / prod2)\n",
    "print(f\"{prod1} // {prod2} = \", prod1 // prod2)\n",
    "print(f\"{prod1} * {prod2} = \", prod1 * prod2)\n",
    "print(f\"{prod1} % {prod2} = \", prod1 % prod2)\n",
    "print(f\"{prod1} ** {prod2} = \", prod1 ** prod2)\n",
    "\n",
    "# Ordem das expressões, forçar com uso de parênteses\n",
    "print(\"\")\n",
    "expressao_1 = (prod1 + prod1) * prod2\n",
    "expressao_2 = (prod1 / prod2) + prod2 * ((prod1 - prod1) ** prod2)\n",
    "\n",
    "print(\"Expressões: \")\n",
    "print(f\"(produto_1 + produto_1) * produto_2 = {expressao_1}\")\n",
    "print(f\"(produto_1 / produto_2) + produto_2 * ((produto_1 - produto_1) ** produto_2) = {expressao_2}\")"
   ]
  }
 ],
 "metadata": {
  "kernelspec": {
   "display_name": ".venv",
   "language": "python",
   "name": "python3"
  },
  "language_info": {
   "codemirror_mode": {
    "name": "ipython",
    "version": 3
   },
   "file_extension": ".py",
   "mimetype": "text/x-python",
   "name": "python",
   "nbconvert_exporter": "python",
   "pygments_lexer": "ipython3",
   "version": "3.13.2"
  }
 },
 "nbformat": 4,
 "nbformat_minor": 2
}
